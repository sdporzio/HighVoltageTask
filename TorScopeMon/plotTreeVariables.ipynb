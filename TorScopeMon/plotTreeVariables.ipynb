{
 "cells": [
  {
   "cell_type": "code",
   "execution_count": 1,
   "metadata": {
    "collapsed": false
   },
   "outputs": [
    {
     "name": "stdout",
     "output_type": "stream",
     "text": [
      "Done! (19396 entries)\n"
     ]
    }
   ],
   "source": [
    "# The script gets the PMT paddles miny values for interesting events from the\n",
    "# root files contained in ubdaq-prod-ws01.fnal.gov:/home/gahs/torscopemon.\n",
    "import ROOT\n",
    "import array\n",
    "import math\n",
    "import os\n",
    "from IPython.display import Image as Plot\n",
    "ROOT.gROOT.SetBatch(1)\n",
    "\n",
    "# Useful function to avoid root-caused memory leaks in ipynb files\n",
    "def destruct(object_):\n",
    "    if issubclass(type(object_), ROOT.TObject):\n",
    "        object_.IsA().Destructor(object_)\n",
    "\n",
    "# Good fit\n",
    "g_xres = 950\n",
    "g_yres = 425\n",
    "\n",
    "# Good res\n",
    "#g_xres = 1024\n",
    "#g_yres = 768\n",
    "\n",
    "# Path to input/output and variables\n",
    "rootDir = \"/Users/sdporzio//HighVoltageTask/TorScopeMon/GAHS/RootFiles/\"\n",
    "originFile = []\n",
    "timestamp = array.array(\"f\",[])\n",
    "miny1 = array.array(\"f\",[])\n",
    "miny2 = array.array(\"f\",[])\n",
    "miny3 = array.array(\"f\",[])\n",
    "miny4 = array.array(\"f\",[])\n",
    "avgy1 = array.array(\"f\",[])\n",
    "avgy2 = array.array(\"f\",[])\n",
    "avgy3 = array.array(\"f\",[])\n",
    "avgy4 = array.array(\"f\",[])\n",
    "maxy1 = array.array(\"f\",[])\n",
    "maxy2 = array.array(\"f\",[])\n",
    "maxy3 = array.array(\"f\",[])\n",
    "maxy4 = array.array(\"f\",[])\n",
    "\n",
    "totEntries = 0\n",
    "# Loop through each file in rootDir\n",
    "for filename in os.listdir(rootDir):\n",
    "    # Open TTree\n",
    "    fRoot = ROOT.TFile(rootDir+filename,\"READ\")\n",
    "    tree = fRoot.torscope_tree\n",
    "    # Loop through each event and store values\n",
    "    nEntries = tree.GetEntries()\n",
    "    totEntries = totEntries + nEntries\n",
    "    for eventNumber in range(nEntries):\n",
    "        tree.GetEntry(eventNumber)\n",
    "        originFile.append(filename)\n",
    "        timestamp.append(float(tree.unixtime[0]))\n",
    "        miny1.append(float(tree.miny[0]))\n",
    "        miny2.append(float(tree.miny[1]))\n",
    "        miny3.append(float(tree.miny[2]))\n",
    "        miny4.append(float(tree.miny[3]))\n",
    "        avgy1.append(float(tree.avgy[0]))\n",
    "        avgy2.append(float(tree.avgy[1]))\n",
    "        avgy3.append(float(tree.avgy[2]))\n",
    "        avgy4.append(float(tree.avgy[3]))\n",
    "        maxy1.append(float(tree.maxy[0]))\n",
    "        maxy2.append(float(tree.maxy[1]))\n",
    "        maxy3.append(float(tree.maxy[2]))\n",
    "        maxy4.append(float(tree.maxy[3]))\n",
    "print \"Done! (%i entries)\" %(totEntries)"
   ]
  },
  {
   "cell_type": "code",
   "execution_count": 4,
   "metadata": {
    "collapsed": false
   },
   "outputs": [
    {
     "data": {
      "image/png": "[encoded data removed]",
      "text/plain": [
       "<IPython.core.display.Image object>"
      ]
     },
     "execution_count": 4,
     "metadata": {},
     "output_type": "execute_result"
    }
   ],
   "source": [
    "c1 = ROOT.TCanvas(\"canvas1\",\"\",g_xres,g_yres)\n",
    "h1 = ROOT.TH1D(\"histo1\",\"MinY (Paddle1)\",100,-250,0)\n",
    "h2 = ROOT.TH1D(\"histo2\",\"MinY (Paddle2)\",100,-250,0)\n",
    "h3 = ROOT.TH1D(\"histo3\",\"MinY (Paddle3)\",100,-250,0)\n",
    "h4 = ROOT.TH1D(\"histo4\",\"MinY (Paddle4)\",100,-250,0)\n",
    "h1.SetLineColor(ROOT.kBlue)\n",
    "h2.SetLineColor(ROOT.kRed)\n",
    "h3.SetLineColor(ROOT.kGreen)\n",
    "h4.SetLineColor(ROOT.kYellow)\n",
    "\n",
    "for i in range(totEntries):\n",
    "    h1.Fill(miny1[i])\n",
    "    h2.Fill(miny2[i])\n",
    "    h3.Fill(miny3[i])\n",
    "    h4.Fill(miny4[i])\n",
    "\n",
    "c1.Divide(2,2)\n",
    "c1.cd(1)\n",
    "h1.Draw(\"EH\")\n",
    "c1.cd(2)\n",
    "h2.Draw(\"EH\")\n",
    "c1.cd(3)\n",
    "h3.Draw(\"EH\")\n",
    "c1.cd(4)\n",
    "h4.Draw(\"EH\")\n",
    "\n",
    "c1.SaveAs(\"OutVariables/histo1.png\")\n",
    "destruct(c1)\n",
    "destruct(h1)\n",
    "destruct(h2)\n",
    "destruct(h3)\n",
    "destruct(h4)\n",
    "Plot(\"OutVariables/histo1.png\")"
   ]
  },
  {
   "cell_type": "code",
   "execution_count": 3,
   "metadata": {
    "collapsed": false
   },
   "outputs": [
    {
     "data": {
      "image/png": "[encoded data removed]",
      "text/plain": [
       "<IPython.core.display.Image object>"
      ]
     },
     "execution_count": 3,
     "metadata": {},
     "output_type": "execute_result"
    }
   ],
   "source": [
    "c1 = ROOT.TCanvas(\"canvas1\",\"\",g_xres,g_yres)\n",
    "h1 = ROOT.TH1D(\"histo1\",\"AvgY (Paddle1)\",100,0,0)\n",
    "h2 = ROOT.TH1D(\"histo2\",\"AvgY (Paddle2)\",100,0,0)\n",
    "h3 = ROOT.TH1D(\"histo3\",\"AvgY (Paddle3)\",100,0,0)\n",
    "h4 = ROOT.TH1D(\"histo4\",\"AvgY (Paddle4)\",100,0,0)\n",
    "h1.SetLineColor(ROOT.kBlue)\n",
    "h2.SetLineColor(ROOT.kRed)\n",
    "h3.SetLineColor(ROOT.kGreen)\n",
    "h4.SetLineColor(ROOT.kYellow)\n",
    "\n",
    "for i in range(totEntries):\n",
    "    h1.Fill(avgy1[i])\n",
    "    h2.Fill(avgy2[i])\n",
    "    h3.Fill(avgy3[i])\n",
    "    h4.Fill(avgy4[i])\n",
    "\n",
    "c1.Divide(2,2)\n",
    "c1.cd(1)\n",
    "h1.Draw(\"EH\")\n",
    "c1.cd(2)\n",
    "h2.Draw(\"EH\")\n",
    "c1.cd(3)\n",
    "h3.Draw(\"EH\")\n",
    "c1.cd(4)\n",
    "h4.Draw(\"EH\")\n",
    "\n",
    "c1.SaveAs(\"OutVariables/hi0.png\")\n",
    "destruct(c1)\n",
    "destruct(h1)\n",
    "destruct(h2)\n",
    "destruct(h3)\n",
    "destruct(h4)\n",
    "Plot(\"OutVariables/histo2.png\")"
   ]
  },
  {
   "cell_type": "code",
   "execution_count": 3,
   "metadata": {
    "collapsed": false
   },
   "outputs": [
    {
     "data": {
      "image/png": "[encoded data removed]",
      "text/plain": [
       "<IPython.core.display.Image object>"
      ]
     },
     "execution_count": 3,
     "metadata": {},
     "output_type": "execute_result"
    }
   ],
   "source": [
    "c1 = ROOT.TCanvas(\"canvas1\",\"\",g_xres,g_yres)\n",
    "h1 = ROOT.TH1D(\"histo1\",\"MaxY (Paddle1)\",100,0,0)\n",
    "h2 = ROOT.TH1D(\"histo2\",\"MaxY (Paddle2)\",100,0,0)\n",
    "h3 = ROOT.TH1D(\"histo3\",\"MaxY (Paddle3)\",100,0,0)\n",
    "h4 = ROOT.TH1D(\"histo4\",\"MaxY (Paddle4)\",100,0,0)\n",
    "h1.SetLineColor(ROOT.kBlue)\n",
    "h2.SetLineColor(ROOT.kRed)\n",
    "h3.SetLineColor(ROOT.kGreen)\n",
    "h4.SetLineColor(ROOT.kYellow)\n",
    "\n",
    "for i in range(totEntries):\n",
    "    h1.Fill(maxy1[i])\n",
    "    h2.Fill(maxy2[i])\n",
    "    h3.Fill(maxy3[i])\n",
    "    h4.Fill(maxy4[i])\n",
    "\n",
    "c1.Divide(2,2)\n",
    "c1.cd(1)\n",
    "h1.Draw(\"EH\")\n",
    "c1.cd(2)\n",
    "h2.Draw(\"EH\")\n",
    "c1.cd(3)\n",
    "h3.Draw(\"EH\")\n",
    "c1.cd(4)\n",
    "h4.Draw(\"EH\")\n",
    "\n",
    "c1.SaveAs(\"OutVariables/histo3.png\")\n",
    "destruct(c1)\n",
    "destruct(h1)\n",
    "destruct(h2)\n",
    "destruct(h3)\n",
    "destruct(h4)\n",
    "Plot(\"OutVariables/histo3.png\")"
   ]
  },
  {
   "cell_type": "code",
   "execution_count": 10,
   "metadata": {
    "collapsed": false
   },
   "outputs": [
    {
     "name": "stdout",
     "output_type": "stream",
     "text": [
      "66\n"
     ]
    },
    {
     "data": {
      "image/png": "[encoded data removed]",
      "text/plain": [
       "<IPython.core.display.Image object>"
      ]
     },
     "execution_count": 10,
     "metadata": {},
     "output_type": "execute_result"
    }
   ],
   "source": [
    "cuty = -190\n",
    "\n",
    "c1 = ROOT.TCanvas(\"canvas1\",\"\",g_xres,g_yres)\n",
    "title = \"Paddle-averaged MinY (with all-4 miny threshold < %i ASD)\" %(cuty)\n",
    "hs = ROOT.THStack(\"histos\",\"MinY (All paddles)\")\n",
    "h1 = ROOT.TH1D(\"histo1\",\"MinY (Paddle1)\",100,-205,cuty)\n",
    "h2 = ROOT.TH1D(\"histo2\",\"MinY (Paddle2)\",100,-205,cuty)\n",
    "h3 = ROOT.TH1D(\"histo3\",\"MinY (Paddle3)\",100,-205,cuty)\n",
    "h4 = ROOT.TH1D(\"histo4\",\"MinY (Paddle4)\",100,-205,cuty)\n",
    "h5 = ROOT.TH1D(\"histo5\",title,100,-205,cuty)\n",
    "h1.SetLineColor(ROOT.kBlack)\n",
    "h2.SetLineColor(ROOT.kBlack)\n",
    "h3.SetLineColor(ROOT.kBlack)\n",
    "h4.SetLineColor(ROOT.kBlack)\n",
    "h1.SetFillColor(ROOT.kBlue)\n",
    "h2.SetFillColor(ROOT.kRed)\n",
    "h3.SetFillColor(ROOT.kGreen)\n",
    "h4.SetFillColor(ROOT.kYellow)\n",
    "h5.SetLineColor(ROOT.kBlue)\n",
    "h5.SetLineWidth(1)\n",
    "\n",
    "\n",
    "count = 0\n",
    "for i in range(totEntries):\n",
    "    if miny1[i] < cuty and miny2[i] < cuty and miny3[i] < cuty and miny4[i] < cuty:\n",
    "        count = count + 1\n",
    "        h1.Fill(miny1[i])\n",
    "        h2.Fill(miny2[i])\n",
    "        h3.Fill(miny3[i])\n",
    "        h4.Fill(miny4[i])\n",
    "        h5.Fill((miny1[i]+miny2[i]+miny3[i]+miny4[i])/4.)\n",
    "        \n",
    "hs.Add(h1)\n",
    "hs.Add(h2)\n",
    "hs.Add(h3)\n",
    "hs.Add(h4)\n",
    "\n",
    "#h5.Draw(\"EH\")\n",
    "#h4.Draw(\"EH\")\n",
    "#h3.Draw(\"EHSAME\")\n",
    "#h2.Draw(\"EHSAME\")\n",
    "#h1.Draw(\"EHSAME\")\n",
    "hs.Draw(\"EH\")\n",
    "\n",
    "print count\n",
    "\n",
    "c1.SaveAs(\"OutVariables/histo4.png\")\n",
    "destruct(c1)\n",
    "destruct(h1)\n",
    "destruct(h2)\n",
    "destruct(h3)\n",
    "destruct(h4)\n",
    "destruct(h5)\n",
    "Plot(\"OutVariables/histo4.png\")"
   ]
  },
  {
   "cell_type": "code",
   "execution_count": 8,
   "metadata": {
    "collapsed": false
   },
   "outputs": [],
   "source": [
    "outName = \"OutVariables/pmtHits_cutMinY%i.dat\" %(cuty)\n",
    "fOut = open(outName,\"w\")\n",
    "\n",
    "for i in range(totEntries):\n",
    "    if miny1[i] < cuty and miny2[i] < cuty and miny3[i] < cuty and miny4[i] < cuty:\n",
    "        fOut.write(str(originFile[i])+\" \"+str(timestamp[i])+\"\\n\")"
   ]
  },
  {
   "cell_type": "code",
   "execution_count": null,
   "metadata": {
    "collapsed": true
   },
   "outputs": [],
   "source": []
  }
 ],
 "metadata": {
  "kernelspec": {
   "display_name": "Python 2",
   "language": "python",
   "name": "python2"
  },
  "language_info": {
   "codemirror_mode": {
    "name": "ipython",
    "version": 2
   },
   "file_extension": ".py",
   "mimetype": "text/x-python",
   "name": "python",
   "nbconvert_exporter": "python",
   "pygments_lexer": "ipython2",
   "version": "2.7.10"
  }
 },
 "nbformat": 4,
 "nbformat_minor": 0
}
