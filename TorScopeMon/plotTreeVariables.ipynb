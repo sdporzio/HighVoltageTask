{
 "cells": [
  {
   "cell_type": "code",
   "execution_count": 3,
   "metadata": {
    "collapsed": false
   },
   "outputs": [],
   "source": [
    "# The script gets the timestamp for interesting events from the root files in\n",
    "# sporzio@ubdaq-prod-ws01.fnal.gov:/home/gahs/torscopemon.\n",
    "import ROOT\n",
    "import array\n",
    "import math\n",
    "import os\n",
    "from IPython.display import Image as Plot\n",
    "ROOT.gROOT.SetBatch(1)\n",
    "\n",
    "def destruct(object_):\n",
    "    if issubclass(type(object_), ROOT.TObject):\n",
    "        object_.IsA().Destructor(object_)\n",
    "\n",
    "# Good fit\n",
    "g_xres = 950\n",
    "g_yres = 425\n",
    "\n",
    "#Good res\n",
    "#g_xres = 1024\n",
    "#g_yres = 768\n",
    "\n",
    "# Path to input and output and variables\n",
    "rootDir = \"/home/sdporzio/HighVoltageTask/TorScopeMon/GAHS/RootFiles/\"\n",
    "miny1 = array.array(\"f\",[])\n",
    "miny2 = array.array(\"f\",[])\n",
    "miny3 = array.array(\"f\",[])\n",
    "miny4 = array.array(\"f\",[])\n",
    "\n",
    "\n",
    "# Loop through each file in rootDir\n",
    "for filename in os.listdir(rootDir):\n",
    "    # Open TTree\n",
    "    fRoot = ROOT.TFile(rootDir+filename,\"READ\")\n",
    "    tree = fRoot.torscope_tree\n",
    "\n",
    "    # Loop\n",
    "    for eventNumber in range(tree.GetEntries()):\n",
    "        tree.GetEntry(eventNumber)\n",
    "        miny1.append(tree.miny[0])\n",
    "        miny2.append(tree.miny[1])\n",
    "        miny3.append(tree.miny[2])\n",
    "        miny4.append(tree.miny[3])"
   ]
  },
  {
   "cell_type": "code",
   "execution_count": 5,
   "metadata": {
    "collapsed": false
   },
   "outputs": [
    {
     "name": "stderr",
     "output_type": "stream",
     "text": [
      "TCanvas::Constructor:0: RuntimeWarning: Deleting canvas with same name: canvas1\n",
      "TFile::Append:0: RuntimeWarning: Replacing existing TH1: histo1 (Potential memory leak).\n",
      "TFile::Append:0: RuntimeWarning: Replacing existing TH1: histo2 (Potential memory leak).\n",
      "TFile::Append:0: RuntimeWarning: Replacing existing TH1: histo3 (Potential memory leak).\n",
      "TFile::Append:0: RuntimeWarning: Replacing existing TH1: histo4 (Potential memory leak).\n"
     ]
    },
    {
     "data": {
      "image/png": "[encoded data removed]",
      "text/plain": [
       "<IPython.core.display.Image object>"
      ]
     },
     "execution_count": 5,
     "metadata": {},
     "output_type": "execute_result"
    }
   ],
   "source": [
    "c1 = ROOT.TCanvas(\"canvas1\",\"\",g_xres,g_yres)\n",
    "h1 = ROOT.TH1D(\"histo1\",\"\",100,0,0)\n",
    "h2 = ROOT.TH1D(\"histo2\",\"\",100,0,0)\n",
    "h3 = ROOT.TH1D(\"histo3\",\"\",100,0,0)\n",
    "h4 = ROOT.TH1D(\"histo4\",\"\",100,0,0)\n",
    "h1.SetLineColor(ROOT.kBlue)\n",
    "h2.SetLineColor(ROOT.kRed)\n",
    "h3.SetLineColor(ROOT.kGreen)\n",
    "h3.SetLineColor(ROOT.kYellow)\n",
    "\n",
    "for i in range(len(miny4)-1):\n",
    "    h1.Fill(miny1[i])\n",
    "    h2.Fill(miny2[i])\n",
    "    h3.Fill(miny3[i])\n",
    "    h4.Fill(miny4[i])\n",
    "\n",
    "c1.Divide(2,2)\n",
    "c1.cd(1)\n",
    "h1.Draw(\"EH\")\n",
    "c1.cd(2)\n",
    "h2.Draw(\"EH\")\n",
    "c1.cd(3)\n",
    "h3.Draw(\"EH\")\n",
    "c1.cd(4)\n",
    "h4.Draw(\"EH\")\n",
    "\n",
    "c1.SaveAs(\"OutVariables/histo1.png\")\n",
    "destruct(c1)\n",
    "destruct(h1)\n",
    "destruct(h2)\n",
    "destruct(h3)\n",
    "destruct(h4)\n",
    "Plot(\"OutVariables/histo1.png\")"
   ]
  },
  {
   "cell_type": "code",
   "execution_count": null,
   "metadata": {
    "collapsed": false
   },
   "outputs": [],
   "source": []
  },
  {
   "cell_type": "code",
   "execution_count": null,
   "metadata": {
    "collapsed": true
   },
   "outputs": [],
   "source": []
  }
 ],
 "metadata": {
  "kernelspec": {
   "display_name": "Python 2",
   "language": "python",
   "name": "python2"
  },
  "language_info": {
   "codemirror_mode": {
    "name": "ipython",
    "version": 2
   },
   "file_extension": ".py",
   "mimetype": "text/x-python",
   "name": "python",
   "nbconvert_exporter": "python",
   "pygments_lexer": "ipython2",
   "version": "2.7.11"
  }
 },
 "nbformat": 4,
 "nbformat_minor": 0
}
