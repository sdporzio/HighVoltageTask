{
 "cells": [
  {
   "cell_type": "code",
   "execution_count": 1,
   "metadata": {
    "collapsed": true
   },
   "outputs": [],
   "source": [
    "workDir = \"/Users/sdporzio/HighVoltageTask\"\n",
    "%matplotlib inline\n",
    "import numpy as np\n",
    "from StringIO import StringIO\n",
    "import matplotlib.pyplot as plt\n",
    "import matplotlib.dates as md\n",
    "import datetime\n",
    "import time\n",
    "import sys\n",
    "import ROOT\n",
    "from IPython.display import Image as Plot\n",
    "sys.path.insert(0, workDir)\n",
    "import HvPackages.probability as prob\n",
    "from HvPackages.dataFunctions import GetDateString as GDS\n",
    "from HvPackages.dataFunctions import GetTimeString as GTS\n",
    "fermilabOffset = -6*60*60\n",
    "ROOT.gStyle.SetTimeOffset(fermilabOffset)\n",
    "ROOT.gStyle.SetPalette(ROOT.kRainBow)\n",
    "ROOT.gStyle.SetOptStat(0)\n",
    "ROOT.gROOT.ForceStyle()\n",
    "\n",
    "def destruct(object_):\n",
    "    if issubclass(type(object_), ROOT.TObject):\n",
    "        object_.IsA().Destructor(object_)\n",
    "\n",
    "# Good fit\n",
    "g_xres = 950\n",
    "g_yres = 425"
   ]
  },
  {
   "cell_type": "code",
   "execution_count": 2,
   "metadata": {
    "collapsed": false
   },
   "outputs": [
    {
     "name": "stdout",
     "output_type": "stream",
     "text": [
      "Available data:  19396\n",
      "Data eliminated:  52\n"
     ]
    }
   ],
   "source": [
    "dataPmt = np.genfromtxt(workDir+\"/Timestamps/pmtHitsFromTorScopeMon.dat\",delimiter=\" \",names=True,dtype=None)\n",
    "dataHv = np.genfromtxt(workDir+\"/Timestamps/hvBlipsFromData.dat\",delimiter=\" \",names=True,dtype=None)\n",
    "dataFlasher = np.genfromtxt(workDir+\"/Timestamps/FlasherRuns/flasherRunsTimestamps.dat\",delimiter=\" \",names=True,dtype=None)\n",
    "toRemove = []\n",
    "preCutData = len(dataPmt)\n",
    "for i,timestamp in enumerate(dataPmt[\"Timestamp\"]):\n",
    "    for j in range(len(dataFlasher)):\n",
    "        if timestamp > dataFlasher['Start'][j] and timestamp < dataFlasher['End'][j]: toRemove.append(i)\n",
    "    if timestamp == 0: toRemove.append(i)\n",
    "        \n",
    "dataPmt = np.delete(dataPmt,toRemove,0) \n",
    "print \"Available data: \", preCutData\n",
    "print \"Data eliminated: \", preCutData - len(dataPmt)"
   ]
  },
  {
   "cell_type": "code",
   "execution_count": 14,
   "metadata": {
    "collapsed": true
   },
   "outputs": [],
   "source": [
    "startTime = 1448148352\n",
    "endTime = 1454500456\n",
    "nBins = 250\n",
    "binWidth = ((endTime-startTime)/float(nBins))/float((60*60)) #in hours"
   ]
  },
  {
   "cell_type": "code",
   "execution_count": 15,
   "metadata": {
    "collapsed": false
   },
   "outputs": [],
   "source": [
    "j = 0\n",
    "for cutY in np.arange(-200,0,2):\n",
    "#     startTime = ROOT.TDatime(2015,10,01,00,00,00).Convert()\n",
    "    weekTime = 604800\n",
    "    nWeeks = 20\n",
    "    nDays = nWeeks*7\n",
    "    daysPerBin = 1\n",
    "#     endTime = startTime + weekTime*nWeeks\n",
    "#     nBins = int(nDays/daysPerBin)\n",
    "    ROOT.gStyle.SetOptStat(1)\n",
    "\n",
    "    c1 = ROOT.TCanvas(\"canvas1\",\"\",g_xres,g_yres)\n",
    "    h1 = ROOT.TH1D(\"hNumberPmt\",\"PMT/HV Rate Vs. Time [Flasher removed, Pulser NOT removed]\",nBins,startTime,endTime)\n",
    "    h2 = ROOT.TH1D(\"hNumberHv\",\"Events vs. Time\",nBins,startTime,endTime)\n",
    "    timeDivisions = int(nWeeks/4) + 4*100\n",
    "    h1.SetLineColor(ROOT.kRed)\n",
    "    h1.GetXaxis().SetTimeDisplay(1)\n",
    "    h1.GetXaxis().SetNdivisions(timeDivisions,0)\n",
    "    h2.SetLineColor(ROOT.kBlue)\n",
    "    h2.GetXaxis().SetTimeDisplay(1)\n",
    "    h2.GetXaxis().SetNdivisions(timeDivisions,0)\n",
    "\n",
    "    for (i,timestamp) in enumerate(dataPmt[\"Timestamp\"]):\n",
    "        if dataPmt[\"MinY1\"][i] < cutY and dataPmt[\"MinY2\"][i] < cutY \\\n",
    "        and dataPmt[\"MinY3\"][i] < cutY and dataPmt[\"MinY4\"][i] < cutY: \n",
    "            h1.Fill(timestamp)\n",
    "\n",
    "    for (i,timestamp) in enumerate(dataHv[\"Timestamp\"]):\n",
    "        h2.Fill(timestamp)\n",
    "\n",
    "    h1.SetStats(0)\n",
    "    h1.SetMaximum(50)\n",
    "    h1.Draw(\"\")\n",
    "    h2.Draw(\"SAME\")\n",
    "\n",
    "    leg = ROOT.TLegend(0.68,0.68,0.88,0.88);\n",
    "    leg.AddEntry(h2, \"HV Events\", \"l\");\n",
    "    leg.AddEntry(h1, \"PMT Events\", \"l\");\n",
    "    leg.Draw()\n",
    "\n",
    "    paveText = ROOT.TPaveText(0.12,0.75,0.22,0.88,\"NDC\")\n",
    "    lineCut = \"CutY: %i\" %(cutY)\n",
    "    lineHV = \"HV events: %i\" %(h2.GetEntries())\n",
    "    linePMT = \"PMT events: %i\" %(h1.GetEntries())\n",
    "    lineWidth = \"Bin Width: %.1f h\" %(binWidth)\n",
    "    paveText.AddText(lineCut)\n",
    "    paveText.AddText(lineHV)\n",
    "    paveText.AddText(linePMT)\n",
    "    paveText.AddText(lineWidth)\n",
    "    paveText.Draw()\n",
    "\n",
    "\n",
    "    outFile = \"PlotsGlobalFine/histo%.02i.png\" %j\n",
    "    c1.SaveAs(outFile)\n",
    "    destruct(c1)\n",
    "    destruct(h1)\n",
    "    destruct(h2)\n",
    "    destruct(leg)\n",
    "    destruct(paveText)\n",
    "    j+=1"
   ]
  },
  {
   "cell_type": "code",
   "execution_count": 11,
   "metadata": {
    "collapsed": false
   },
   "outputs": [
    {
     "data": {
      "image/png": "[encoded data removed]",
      "text/plain": [
       "<IPython.core.display.Image object>"
      ]
     },
     "execution_count": 11,
     "metadata": {},
     "output_type": "execute_result"
    }
   ],
   "source": [
    "cutY = -150\n",
    "# startTime = ROOT.TDatime(2015,10,1,0,0,0).Convert()\n",
    "weekTime = 604800\n",
    "nWeeks = 20\n",
    "nDays = nWeeks*7\n",
    "daysPerBin = 1\n",
    "# endTime = startTime + weekTime*nWeeks\n",
    "# nBins = int(nDays/daysPerBin)\n",
    "ROOT.gStyle.SetOptStat(1)\n",
    "\n",
    "c1 = ROOT.TCanvas(\"canvas1\",\"\",g_xres,g_yres)\n",
    "h1 = ROOT.TH1D(\"hNumberPmt\",\"PMT/HV Rate Vs. Time [Flasher removed, Pulser NOT removed]\",nBins,startTime,endTime)\n",
    "h2 = ROOT.TH1D(\"hNumberHv\",\"Events vs. Time\",nBins,startTime,endTime)\n",
    "timeDivisions = int(nWeeks/4) + 4*100\n",
    "h1.SetLineColor(ROOT.kRed)\n",
    "h1.GetXaxis().SetTimeDisplay(1)\n",
    "h1.GetXaxis().SetNdivisions(timeDivisions,0)\n",
    "h2.SetLineColor(ROOT.kBlue)\n",
    "h2.GetXaxis().SetTimeDisplay(1)\n",
    "h2.GetXaxis().SetNdivisions(timeDivisions,0)\n",
    "\n",
    "for (i,timestamp) in enumerate(dataPmt[\"Timestamp\"]):\n",
    "    if dataPmt[\"MinY1\"][i] < cutY and dataPmt[\"MinY2\"][i] < cutY \\\n",
    "    and dataPmt[\"MinY3\"][i] < cutY and dataPmt[\"MinY4\"][i] < cutY: \n",
    "        h1.Fill(timestamp)\n",
    "\n",
    "for (i,timestamp) in enumerate(dataHv[\"Timestamp\"]):\n",
    "    h2.Fill(timestamp)\n",
    "\n",
    "h1.SetStats(0)\n",
    "h1.SetMaximum(50)\n",
    "h1.Draw(\"\")\n",
    "h2.Draw(\"SAME\")\n",
    "\n",
    "leg = ROOT.TLegend(0.78,0.75,0.88,0.88);\n",
    "leg.AddEntry(h2, \"HV Events\", \"l\");\n",
    "leg.AddEntry(h1, \"PMT Events\", \"l\");\n",
    "leg.Draw()\n",
    "\n",
    "paveText = ROOT.TPaveText(0.12,0.75,0.22,0.88,\"NDC\")\n",
    "lineCut = \"CutY: %i\" %(cutY)\n",
    "lineHV = \"HV events: %i\" %(h2.GetEntries())\n",
    "linePMT = \"PMT events: %i\" %(h1.GetEntries())\n",
    "lineWidth = \"Bin Width: %.1f h\" %(binWidth)\n",
    "paveText.AddText(lineCut)\n",
    "paveText.AddText(lineHV)\n",
    "paveText.AddText(linePMT)\n",
    "paveText.AddText(lineWidth)\n",
    "paveText.Draw()\n",
    "\n",
    "\n",
    "outName = \"PlotsZoom/histoNorm.png\"\n",
    "c1.SaveAs(outName)\n",
    "destruct(c1)\n",
    "destruct(h1)\n",
    "destruct(h2)\n",
    "destruct(leg)\n",
    "destruct(paveText)\n",
    "Plot(outName)"
   ]
  },
  {
   "cell_type": "code",
   "execution_count": null,
   "metadata": {
    "collapsed": true
   },
   "outputs": [],
   "source": []
  }
 ],
 "metadata": {
  "kernelspec": {
   "display_name": "Python 2",
   "language": "python",
   "name": "python2"
  },
  "language_info": {
   "codemirror_mode": {
    "name": "ipython",
    "version": 2
   },
   "file_extension": ".py",
   "mimetype": "text/x-python",
   "name": "python",
   "nbconvert_exporter": "python",
   "pygments_lexer": "ipython2",
   "version": "2.7.10"
  }
 },
 "nbformat": 4,
 "nbformat_minor": 0
}
