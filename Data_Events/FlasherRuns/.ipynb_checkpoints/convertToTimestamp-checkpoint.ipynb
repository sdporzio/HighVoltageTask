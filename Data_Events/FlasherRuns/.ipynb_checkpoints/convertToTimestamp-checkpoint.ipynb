{
 "cells": [
  {
   "cell_type": "code",
   "execution_count": 59,
   "metadata": {
    "collapsed": false
   },
   "outputs": [],
   "source": [
    "%matplotlib inline\n",
    "import matplotlib.pyplot as plt\n",
    "import numpy as np\n",
    "from scipy.optimize import curve_fit as fit\n",
    "import array\n",
    "import sys\n",
    "sys.path.insert(0, '/Users/sdporzio/HighVoltageTask')\n",
    "import HvPackages.probability as prob\n",
    "from HvPackages.dataFunctions import GetDateString as GDS\n",
    "from HvPackages.dataFunctions import GetTimeString as GTS\n",
    "from HvPackages.dataFunctions import GetChicagoTimestamp as GCT"
   ]
  },
  {
   "cell_type": "code",
   "execution_count": 60,
   "metadata": {
    "collapsed": false
   },
   "outputs": [],
   "source": [
    "dates = np.genfromtxt(\"flasherRunsDateFormat.dat\",delimiter=\"\\t\",names=True,dtype=None)\n",
    "dtStart = []\n",
    "dtEnd = []\n",
    "for event in dates:\n",
    "    dtStart.append(GCT(event['Year'],event['Month'],event['Day'],event['StartHour'],event['StartMinute'],event['StartSecond']))\n",
    "    dtEnd.append(GCT(event['Year'],event['Month'],event['Day'],event['EndHour'],event['EndMinute'],event['EndSecond']))\n",
    "timestamps = np.array((dtStart,dtEnd)).transpose()\n",
    "np.savetxt(\"flasherRunsTimestamps.dat\",timestamps,fmt='%i',delimiter=' ',header='Start End')"
   ]
  },
  {
   "cell_type": "code",
   "execution_count": null,
   "metadata": {
    "collapsed": true
   },
   "outputs": [],
   "source": []
  }
 ],
 "metadata": {
  "kernelspec": {
   "display_name": "Python 2",
   "language": "python",
   "name": "python2"
  },
  "language_info": {
   "codemirror_mode": {
    "name": "ipython",
    "version": 2
   },
   "file_extension": ".py",
   "mimetype": "text/x-python",
   "name": "python",
   "nbconvert_exporter": "python",
   "pygments_lexer": "ipython2",
   "version": "2.7.10"
  }
 },
 "nbformat": 4,
 "nbformat_minor": 0
}
