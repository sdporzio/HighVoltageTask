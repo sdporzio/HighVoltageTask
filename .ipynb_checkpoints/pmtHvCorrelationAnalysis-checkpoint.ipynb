{
 "cells": [
  {
   "cell_type": "code",
   "execution_count": 1,
   "metadata": {
    "collapsed": true
   },
   "outputs": [],
   "source": [
    "%matplotlib inline\n",
    "import matplotlib.pyplot as plt\n",
    "import numpy as np\n",
    "import array\n",
    "import sys\n",
    "sys.path.insert(0, '/Users/sdporzio/HighVoltageTask')\n",
    "import HvPackages.probability as prob\n",
    "from HvPackages.dataFunctions import GetDateString as GDS\n",
    "from HvPackages.dataFunctions import GetTimeString as GTS"
   ]
  },
  {
   "cell_type": "code",
   "execution_count": 2,
   "metadata": {
    "collapsed": false
   },
   "outputs": [
    {
     "name": "stdout",
     "output_type": "stream",
     "text": [
      "151 HV events\n",
      "100 PMT events, after cut: -150 [19396 originally]\n"
     ]
    }
   ],
   "source": [
    "fHV = open(\"Timestamps/hvBlipsFromData.dat\")\n",
    "fPMT = open(\"Timestamps/pmtHitsFromTorScopeMon.dat\")\n",
    "headerHV = fHV.readline()\n",
    "headerPMT = fPMT.readline()\n",
    "\n",
    "timeHV = array.array(\"d\",[])\n",
    "blipType = []\n",
    "blipDuration = array.array(\"d\",[])\n",
    "blipIntensity = array.array(\"d\",[])\n",
    "originFilePMT = []\n",
    "timePMT = array.array(\"d\",[])\n",
    "timeCutPMT = array.array(\"d\",[])\n",
    "min1PMT = array.array(\"d\",[])\n",
    "min2PMT = array.array(\"d\",[])\n",
    "min3PMT = array.array(\"d\",[])\n",
    "min4PMT = array.array(\"d\",[])\n",
    "\n",
    "for line in fHV:\n",
    "    x = line.split()\n",
    "    timeHV.append(float(x[0]))\n",
    "    blipType.append(x[1])\n",
    "    blipIntensity.append(float(x[5]))\n",
    "    blipDuration.append(float(x[6]))\n",
    "\n",
    "for line in fPMT:\n",
    "    x = line.split()\n",
    "    originFilePMT.append(x[0])\n",
    "    timePMT.append(float(x[1]))\n",
    "    min1PMT.append(float(x[2]))\n",
    "    min2PMT.append(float(x[3]))\n",
    "    min3PMT.append(float(x[4]))\n",
    "    min4PMT.append(float(x[5]))\n",
    "    \n",
    "nMonths = 3\n",
    "cutY = -150\n",
    "for i,timestampPMT in enumerate(timePMT):\n",
    "    if min1PMT[i] < cutY and min2PMT[i] < cutY and min3PMT[i] < cutY and min4PMT[i] < cutY:\n",
    "        timeCutPMT.append(float(timestampPMT))\n",
    "        \n",
    "nHV = len(timeHV)\n",
    "nPMT = len(timeCutPMT)\n",
    "print \"%i HV events\" %(nHV)\n",
    "print \"%i PMT events, after cut: %.f [%i originally]\" %(nPMT,cutY,len(timePMT))"
   ]
  },
  {
   "cell_type": "code",
   "execution_count": 3,
   "metadata": {
    "collapsed": false
   },
   "outputs": [
    {
     "name": "stdout",
     "output_type": "stream",
     "text": [
      "2 coincidences found with 0.6% probability\n",
      "Expected average with a 30s time window: 0.12\n"
     ]
    }
   ],
   "source": [
    "tWindow = 30\n",
    "\n",
    "timeC = array.array(\"d\",[])\n",
    "deltaC = array.array(\"d\",[])\n",
    "\n",
    "for i,timestampHV in enumerate(timeHV):\n",
    "    for j,timestampPMT in enumerate(timeCutPMT):\n",
    "        deltaT = timestampPMT-timestampHV\n",
    "        if abs(deltaT) < tWindow:\n",
    "            timeC.append(timestampHV)\n",
    "            deltaC.append(deltaT)\n",
    "\n",
    "nCoinc = len(timeC)\n",
    "probability = prob.prob3(nMonths,tWindow,nHV,nPMT,nCoinc)*100\n",
    "average = prob.average3(nMonths,tWindow,nHV,nPMT)\n",
    "\n",
    "print \"%i coincidences found with %.1f%% probability\" %(nCoinc,probability)\n",
    "print \"Expected average with a %.fs time window: %.2f\" %(tWindow,average)"
   ]
  },
  {
   "cell_type": "code",
   "execution_count": 4,
   "metadata": {
    "collapsed": false
   },
   "outputs": [
    {
     "data": {
      "image/png": "[encoded data removed]",
      "text/plain": [
       "<matplotlib.figure.Figure at 0x1224b54d0>"
      ]
     },
     "metadata": {},
     "output_type": "display_data"
    }
   ],
   "source": [
    "maxWindow = 300\n",
    "step = 5\n",
    "\n",
    "numC = array.array(\"I\",[])\n",
    "tWindow = array.array(\"d\",[])\n",
    "probC = array.array(\"d\",[])\n",
    "aveC = array.array(\"d\",[])\n",
    "\n",
    "for t in np.arange(5,maxWindow,step):\n",
    "    timeC = array.array(\"d\",[])\n",
    "    deltaC = array.array(\"d\",[])\n",
    "    for i,timestampHV in enumerate(timeHV):\n",
    "        for j,timestampPMT in enumerate(timeCutPMT):\n",
    "            deltaT = timestampPMT-timestampHV\n",
    "            if abs(deltaT) < t:\n",
    "                timeC.append(timestampHV)\n",
    "                deltaC.append(deltaT)\n",
    "\n",
    "    nCoinc = len(timeC)\n",
    "    tWindow.append(float(t))\n",
    "    numC.append(nCoinc)\n",
    "    probC.append(prob.prob3(nMonths,t,nHV,nPMT,nCoinc)*100)\n",
    "    aveC.append(prob.average3(nMonths,t,nHV,nPMT))\n",
    "\n",
    "fig = plt.figure(figsize=(15,5), dpi=80)\n",
    "fig1 = fig.add_subplot(121)\n",
    "fig1.bar(tWindow,aveC,step,color=\"red\",alpha=0.5,label='Expected')\n",
    "fig1.bar(tWindow,numC,step,color=\"blue\",alpha=0.5,label='Observed')\n",
    "fig1.legend(loc='lower right', frameon=True)\n",
    "fig1.set_title(\"Number of Coincidences vs. Time Window Width\")\n",
    "plt.xlabel('Time Window [seconds]')\n",
    "plt.ylabel('# Coincidences')\n",
    "\n",
    "fig2 = fig.add_subplot(122)\n",
    "fig2.bar(tWindow,aveC,step,color=\"red\",alpha=0.5,label='Expected')\n",
    "fig2.legend(loc='lower right', frameon=True)\n",
    "fig2.set_title(\"Expected Coincidences vs. Time Window Width\")\n",
    "plt.xlabel('Time Window [seconds]')\n",
    "plt.ylabel('# Coincidences')\n",
    "\n",
    "plt.show()"
   ]
  },
  {
   "cell_type": "code",
   "execution_count": 5,
   "metadata": {
    "collapsed": false
   },
   "outputs": [
    {
     "data": {
      "image/png": "[encoded data removed]",
      "text/plain": [
       "<matplotlib.figure.Figure at 0x12267e950>"
      ]
     },
     "metadata": {},
     "output_type": "display_data"
    }
   ],
   "source": [
    "maxWindow = 40000\n",
    "step = 500\n",
    "\n",
    "numC = array.array(\"I\",[])\n",
    "tWindow = array.array(\"d\",[])\n",
    "probC = array.array(\"d\",[])\n",
    "aveC = array.array(\"d\",[])\n",
    "\n",
    "for t in np.arange(5,maxWindow,step):\n",
    "    timeC = array.array(\"d\",[])\n",
    "    deltaC = array.array(\"d\",[])\n",
    "    for i,timestampHV in enumerate(timeHV):\n",
    "        for j,timestampPMT in enumerate(timeCutPMT):\n",
    "            deltaT = timestampPMT-timestampHV\n",
    "            if abs(deltaT) < t:\n",
    "                timeC.append(timestampHV)\n",
    "                deltaC.append(deltaT)\n",
    "\n",
    "    nCoinc = len(timeC)\n",
    "    tWindow.append(float(t))\n",
    "    numC.append(nCoinc)\n",
    "    probC.append(prob.prob3(nMonths,t,nHV,nPMT,nCoinc)*100)\n",
    "    aveC.append(prob.average3(nMonths,t,nHV,nPMT))\n",
    "\n",
    "plt.figure(figsize=(15,5), dpi=80)\n",
    "plt.bar(tWindow,aveC,step,color=\"red\",alpha=0.5,label='Expected')\n",
    "plt.bar(tWindow,numC,step,color=\"blue\",alpha=0.5,label='Observed')\n",
    "plt.legend(loc='lower right', frameon=True)\n",
    "plt.title(\"Number of Coincidences vs. Time Window Width\")\n",
    "plt.xlabel('Time Window [seconds]')\n",
    "plt.ylabel('# Coincidences')\n",
    "\n",
    "plt.show()"
   ]
  },
  {
   "cell_type": "code",
   "execution_count": null,
   "metadata": {
    "collapsed": true
   },
   "outputs": [],
   "source": []
  }
 ],
 "metadata": {
  "kernelspec": {
   "display_name": "Python 2",
   "language": "python",
   "name": "python2"
  },
  "language_info": {
   "codemirror_mode": {
    "name": "ipython",
    "version": 2
   },
   "file_extension": ".py",
   "mimetype": "text/x-python",
   "name": "python",
   "nbconvert_exporter": "python",
   "pygments_lexer": "ipython2",
   "version": "2.7.10"
  }
 },
 "nbformat": 4,
 "nbformat_minor": 0
}
