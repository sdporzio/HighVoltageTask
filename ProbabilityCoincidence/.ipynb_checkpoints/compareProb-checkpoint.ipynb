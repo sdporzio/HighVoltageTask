{
 "cells": [
  {
   "cell_type": "code",
   "execution_count": 1,
   "metadata": {
    "collapsed": false
   },
   "outputs": [],
   "source": [
    "import ROOT\n",
    "ROOT.gROOT.SetBatch(1)\n",
    "def destruct(object_):\n",
    "    if issubclass(type(object_), ROOT.TObject):\n",
    "        object_.IsA().Destructor(object_)\n",
    "from IPython.display import Image as Plot\n",
    "g_xres = 950\n",
    "g_yres = 425\n",
    "\n",
    "\n",
    "import numpy as np\n",
    "import sys\n",
    "sys.path.insert(0, '/Users/sdporzio/HighVoltageTask')\n",
    "import HvPackages.probability as prob\n",
    "\n",
    "nMonths = 3\n",
    "tWindow = 30\n",
    "nHV = 100\n",
    "nPMT = 100"
   ]
  },
  {
   "cell_type": "code",
   "execution_count": 2,
   "metadata": {
    "collapsed": false
   },
   "outputs": [],
   "source": [
    "c1 = ROOT.TCanvas(\"canvas1\",\"\",g_xres,g_yres)\n",
    "g1 = ROOT.TGraph()\n",
    "g2 = ROOT.TGraph()\n",
    "g3 = ROOT.TGraph()\n",
    "g1.SetLineColor(ROOT.kBlue)\n",
    "g2.SetLineColor(ROOT.kRed)\n",
    "g3.SetLineColor(ROOT.kGreen)\n",
    "\n",
    "i = 0\n",
    "for month in np.arange(0.5,10,0.5):\n",
    "    g1.SetPoint(i,month,prob.prob1(month,tWindow,nHV,nPMT))\n",
    "    g2.SetPoint(i,month,prob.prob2(month,tWindow,nHV,nPMT))\n",
    "    g3.SetPoint(i,month,prob.prob3(month,tWindow,nHV,nPMT))\n",
    "    \n",
    "destruct(g1)\n",
    "destruct(g2)\n",
    "destruct(g3)"
   ]
  },
  {
   "cell_type": "code",
   "execution_count": null,
   "metadata": {
    "collapsed": true
   },
   "outputs": [],
   "source": []
  }
 ],
 "metadata": {
  "kernelspec": {
   "display_name": "Python 2",
   "language": "python",
   "name": "python2"
  },
  "language_info": {
   "codemirror_mode": {
    "name": "ipython",
    "version": 2
   },
   "file_extension": ".py",
   "mimetype": "text/x-python",
   "name": "python",
   "nbconvert_exporter": "python",
   "pygments_lexer": "ipython2",
   "version": "2.7.10"
  }
 },
 "nbformat": 4,
 "nbformat_minor": 0
}
