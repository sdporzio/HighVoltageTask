{
 "cells": [
  {
   "cell_type": "markdown",
   "metadata": {},
   "source": [
    "We should assume at the moment that we're interested in calculating the probability for a HV event to happen in a specific time window at a specific time (let's say between 12.00.00 and 12.00.30 on 01/01/2016), **not a coincidence**.\n",
    "\n",
    "$T$ is our total time (couple of months) and $t$ is our time window (tens of seconds).\n",
    "\n",
    "Let's divide our total time in *bins*: $ \\ N_{\\text{bins}} = \\frac{T}{t}$.\n",
    "\n",
    "The probability for an event (an HV event for example) of happening in *a specific bin* (assuming completely flat distribution over time) is:\n",
    "\n",
    "$$ p = \\frac{1}{N_{\\text{bins}}} = \\frac{t}{T}. $$\n",
    "\n",
    "The probability for *a specific bin* to be occupied by at least one HV event by throwing $n^{\\text{HV}}$ HV events is then unity minus the probability of not observing any event in that bin:\n",
    "\n",
    "$$ P^{\\text{HV}}_{>1} = 1 - P_{0} = 1 - (1 - p)^{n^{\\text{HV}}} = 1 - \\left( 1 - \\frac{t}{T} \\right) ^{n^{\\text{HV}}}. $$\n",
    "\n",
    "Since that's the probability for *a specific bin* to be occupied by at least a HV event, we now want the probability for the same specific bin to be occupied also by at least a PMT event, so:\n",
    "\n",
    "$$ P_{\\text{comb}} = P_{>1}^{\\text{HV}} \\cdot P_{>1}^{\\text{PMT}}. $$\n",
    "\n",
    "But we don't care which bin exactly is occupied by a couple of PMT/HV events, and we have $N_{\\text{bins}} = \\frac{T}{t}$ of them, so:\n",
    "\n",
    "$$ P_{\\text{tot}} = P_{>1}^{\\text{HV}} \\cdot P_{>1}^{\\text{PMT}} \\cdot N_{\\text{bins}} = P_{>1}^{\\text{HV}} \\cdot P_{>1}^{\\text{PMT}} \\cdot \\frac{T}{t}. $$\n",
    "\n",
    "More explicitly:\n",
    "\n",
    "$$ P_{\\text{tot}} = \\left[ 1 - \\left( 1 - \\frac{t}{T} \\right) ^{n^{\\text{HV}}} \\right] \\cdot \\left[ 1 - \\left( 1 - \\frac{t}{T} \\right) ^{n^{\\text{PMT}}} \\right] \\cdot \\frac{T}{t}.$$"
   ]
  },
  {
   "cell_type": "code",
   "execution_count": 8,
   "metadata": {
    "collapsed": false
   },
   "outputs": [
    {
     "name": "stdout",
     "output_type": "stream",
     "text": [
      "Probability of observing a coincidence: 2.3%\n"
     ]
    }
   ],
   "source": [
    "numberMonths = 5 # months\n",
    "totalTime = 60*60*24*30*numberMonths # seconds\n",
    "timeWindow = 30 # seconds\n",
    "nBins = totalTime/timeWindow\n",
    "pGen = 1./nBins\n",
    "nHV = 100\n",
    "nPMT = 100\n",
    "\n",
    "pHV = 1 - pow((1-pGen),nHV)\n",
    "pPMT = 1 - pow((1-pGen),nPMT)\n",
    "pTot = pHV * pPMT * nBins\n",
    "\n",
    "print \"Probability of observing a coincidence: %.1f%%\" %(pTot*100)"
   ]
  },
  {
   "cell_type": "code",
   "execution_count": null,
   "metadata": {
    "collapsed": true
   },
   "outputs": [],
   "source": []
  },
  {
   "cell_type": "code",
   "execution_count": null,
   "metadata": {
    "collapsed": true
   },
   "outputs": [],
   "source": []
  }
 ],
 "metadata": {
  "kernelspec": {
   "display_name": "Python 2",
   "language": "python",
   "name": "python2"
  },
  "language_info": {
   "codemirror_mode": {
    "name": "ipython",
    "version": 2
   },
   "file_extension": ".py",
   "mimetype": "text/x-python",
   "name": "python",
   "nbconvert_exporter": "python",
   "pygments_lexer": "ipython2",
   "version": "2.7.10"
  }
 },
 "nbformat": 4,
 "nbformat_minor": 0
}
