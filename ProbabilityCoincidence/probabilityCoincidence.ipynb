{
 "cells": [
  {
   "cell_type": "markdown",
   "metadata": {},
   "source": [
    "# Binomial\n",
    "\n",
    "We should assume at the moment that we're interested in calculating the probability for a HV event to happen in a specific time window at a specific time (let's say between 12.00.00 and 12.00.30 on 01/01/2016), **not a coincidence**.\n",
    "\n",
    "$T$ is our total time (couple of months) and $t$ is our time window (tens of seconds).\n",
    "\n",
    "Let's divide our total time in *bins*: $ \\ N_{\\text{bins}} = \\frac{T}{t}$.\n",
    "\n",
    "The probability for an event (an HV event for example) of happening in *a specific bin* (assuming completely flat distribution over time) is:\n",
    "\n",
    "$$ p = \\frac{1}{N_{\\text{bins}}} = \\frac{t}{T}. $$\n",
    "\n",
    "The probability for *a specific bin* to be occupied by at least one HV event by throwing $n^{\\text{HV}}$ HV events is then unity minus the probability of not observing any event in that bin:\n",
    "\n",
    "$$ P^{\\text{HV}}_{>1} = 1 - P_{0} = 1 - (1 - p)^{n^{\\text{HV}}} = 1 - \\left( 1 - \\frac{t}{T} \\right) ^{n^{\\text{HV}}}. $$\n",
    "\n",
    "Since that's the probability for *a specific bin* to be occupied by at least a HV event, we now want the probability for the same specific bin to be occupied also by at least a PMT event, so:\n",
    "\n",
    "$$ P_{\\text{comb}} = P_{>1}^{\\text{HV}} \\cdot P_{>1}^{\\text{PMT}}. $$\n",
    "\n",
    "But we don't care which bin exactly is occupied by a couple of PMT/HV events, and we have $N_{\\text{bins}} = \\frac{T}{t}$ of them, so:\n",
    "\n",
    "$$ P_{\\text{tot}} = P_{>1}^{\\text{HV}} \\cdot P_{>1}^{\\text{PMT}} \\cdot N_{\\text{bins}} = P_{>1}^{\\text{HV}} \\cdot P_{>1}^{\\text{PMT}} \\cdot \\frac{T}{t}. $$\n",
    "\n",
    "More explicitly:\n",
    "\n",
    "$$ P_{\\text{tot}} = \\left[ 1 - \\left( 1 - \\frac{t}{T} \\right) ^{n^{\\text{HV}}} \\right] \\cdot \\left[ 1 - \\left( 1 - \\frac{t}{T} \\right) ^{n^{\\text{PMT}}} \\right] \\cdot \\frac{T}{t}.$$"
   ]
  },
  {
   "cell_type": "code",
   "execution_count": 35,
   "metadata": {
    "collapsed": false
   },
   "outputs": [
    {
     "name": "stdout",
     "output_type": "stream",
     "text": [
      "Probability of observing a coincidence: 2.6%\n"
     ]
    }
   ],
   "source": [
    "numberMonths = 3 # months\n",
    "totalTime = 60*60*24*30*numberMonths # seconds\n",
    "timeWindow = 10 # seconds\n",
    "nBins = totalTime/timeWindow\n",
    "pGen = 1./nBins\n",
    "nHV = 200\n",
    "nPMT = 100\n",
    "\n",
    "pHV = 1 - pow((1-pGen),nHV)\n",
    "pPMT = 1 - pow((1-pGen),nPMT)\n",
    "pTot = pHV * pPMT * nBins\n",
    "\n",
    "print \"Probability of observing a coincidence: %.1f%%\" %(pTot*100)"
   ]
  },
  {
   "cell_type": "markdown",
   "metadata": {
    "collapsed": true
   },
   "source": [
    "# A different approach\n",
    "\n",
    "Let's lay down all our $n^{\\text{HV}}$ HV events and let's assume that they don't touch each other (so that each 60 $s$ region defined around them doesn't contain other HV events. The assumption is already wrong, but let's carry on).\n",
    "\n",
    "The *surface* covered by these events is $n^{\\text{HV}} \\cdot t$ versus $T$ total time.\n",
    "\n",
    "The probability then of a PMT events to fall within range of a HV event is:\n",
    "$$ p = \\frac{n^{\\text{HV}} \\cdot t}{T}$$\n",
    "\n",
    "The rest follows from before."
   ]
  },
  {
   "cell_type": "code",
   "execution_count": 36,
   "metadata": {
    "collapsed": false
   },
   "outputs": [
    {
     "name": "stdout",
     "output_type": "stream",
     "text": [
      "Probability of observing ONE coincidence:  2.5%\n"
     ]
    }
   ],
   "source": [
    "p1 = float((nHV * timeWindow))/float(totalTime)\n",
    "p1 = nPMT*p1*pow((1-p1),nPMT-1)\n",
    "print \"Probability of observing ONE coincidence:  %.1f%%\" %(p1*100)"
   ]
  },
  {
   "cell_type": "code",
   "execution_count": null,
   "metadata": {
    "collapsed": true
   },
   "outputs": [],
   "source": []
  }
 ],
 "metadata": {
  "kernelspec": {
   "display_name": "Python 2",
   "language": "python",
   "name": "python2"
  },
  "language_info": {
   "codemirror_mode": {
    "name": "ipython",
    "version": 2
   },
   "file_extension": ".py",
   "mimetype": "text/x-python",
   "name": "python",
   "nbconvert_exporter": "python",
   "pygments_lexer": "ipython2",
   "version": "2.7.10"
  }
 },
 "nbformat": 4,
 "nbformat_minor": 0
}
